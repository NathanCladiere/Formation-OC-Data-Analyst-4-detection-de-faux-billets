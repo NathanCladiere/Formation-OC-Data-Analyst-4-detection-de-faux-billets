{
 "cells": [
  {
   "cell_type": "code",
   "execution_count": 18,
   "metadata": {},
   "outputs": [],
   "source": [
    "import pandas as pd\n",
    "import matplotlib.pyplot as plt\n",
    "import matplotlib\n",
    "import numpy as np\n",
    "import collections, numpy\n",
    "import seaborn as sns \n",
    "import scipy.stats\n",
    "from sklearn import preprocessing\n",
    "from matplotlib.collections import LineCollection\n",
    "from scipy.cluster.hierarchy import dendrogram\n",
    "from sklearn.cluster import KMeans\n",
    "from sklearn import decomposition\n",
    "from scipy.stats import ks_2samp\n",
    "import statsmodels\n",
    "import statsmodels.formula.api as smf\n",
    "import statsmodels.api as sm"
   ]
  },
  {
   "cell_type": "markdown",
   "metadata": {},
   "source": [
    "# Data des billets à déterminer "
   ]
  },
  {
   "cell_type": "code",
   "execution_count": 19,
   "metadata": {},
   "outputs": [],
   "source": [
    "dataEval = pd.read_csv(\"example.csv\")"
   ]
  },
  {
   "cell_type": "markdown",
   "metadata": {},
   "source": [
    "# Calibrage"
   ]
  },
  {
   "cell_type": "code",
   "execution_count": 20,
   "metadata": {},
   "outputs": [],
   "source": [
    "def is_genuineBol(col):\n",
    "    if col==False:\n",
    "        val=0\n",
    "    else:\n",
    "        val=1\n",
    "    return val"
   ]
  },
  {
   "cell_type": "code",
   "execution_count": 21,
   "metadata": {},
   "outputs": [],
   "source": [
    "dataTickets = pd.read_csv(\"notes.csv\")\n",
    "dataTickets[\"is_genuineBol\"]=dataTickets[\"is_genuine\"].apply(is_genuineBol)"
   ]
  },
  {
   "cell_type": "code",
   "execution_count": 22,
   "metadata": {},
   "outputs": [
    {
     "name": "stdout",
     "output_type": "stream",
     "text": [
      "                 Generalized Linear Model Regression Results                  \n",
      "==============================================================================\n",
      "Dep. Variable:          is_genuineBol   No. Observations:                  170\n",
      "Model:                            GLM   Df Residuals:                      167\n",
      "Model Family:                Binomial   Df Model:                            2\n",
      "Link Function:                  logit   Scale:                          1.0000\n",
      "Method:                          IRLS   Log-Likelihood:                -4.2932\n",
      "Date:                Thu, 01 Oct 2020   Deviance:                       8.5864\n",
      "Time:                        08:41:53   Pearson chi2:                     10.1\n",
      "No. Iterations:                    11                                         \n",
      "Covariance Type:            nonrobust                                         \n",
      "==============================================================================\n",
      "                 coef    std err          z      P>|z|      [0.025      0.975]\n",
      "------------------------------------------------------------------------------\n",
      "Intercept   -944.4190    377.481     -2.502      0.012   -1684.269    -204.569\n",
      "margin_low   -13.3659      5.314     -2.515      0.012     -23.781      -2.950\n",
      "length         8.9420      3.552      2.518      0.012       1.981      15.903\n",
      "==============================================================================\n"
     ]
    }
   ],
   "source": [
    "reg_log = smf.glm('is_genuineBol~margin_low+length',\n",
    "                   data=dataTickets, family=sm.families.Binomial()).fit()\n",
    "print(reg_log.summary())"
   ]
  },
  {
   "cell_type": "code",
   "execution_count": 23,
   "metadata": {},
   "outputs": [],
   "source": [
    "beta1 = reg_log.params[0]\n",
    "beta2 = reg_log.params[1]\n",
    "beta3 = reg_log.params[2]"
   ]
  },
  {
   "cell_type": "code",
   "execution_count": 24,
   "metadata": {},
   "outputs": [],
   "source": [
    "def Estimation_Vrai_Faux_billets (data):\n",
    "    a=[]\n",
    "    for x in range(len(data)):\n",
    "        if np.exp(beta1+beta2*data.loc[x,\"margin_low\"]+beta3*data.loc[x,\"length\"])/(1+np.exp(beta1+beta2*data.loc[x,\"margin_low\"]+beta3*data.loc[x,\"length\"]))>= 0.5:\n",
    "            a = a+[1]\n",
    "            print(\"Le billet {} est vrai(proba: {})\".format(data.loc[x,\"id\"],round(np.exp(beta1+beta2*data.loc[x,\"margin_low\"]+beta3*data.loc[x,\"length\"])/(1+np.exp(beta1+beta2*data.loc[x,\"margin_low\"]+beta3*data.loc[x,\"length\"])),3)))\n",
    "        else:\n",
    "            a = a+[0]\n",
    "            print(\"Le billet {} est Faux(proba: {})\".format(data.loc[x,\"id\"],round(np.exp(beta1+beta2*data.loc[x,\"margin_low\"]+beta3*data.loc[x,\"length\"])/(1+np.exp(beta1+beta2*data.loc[x,\"margin_low\"]+beta3*data.loc[x,\"length\"])),3)))\n",
    "    return a "
   ]
  },
  {
   "cell_type": "markdown",
   "metadata": {},
   "source": [
    "# Modélisation"
   ]
  },
  {
   "cell_type": "code",
   "execution_count": 25,
   "metadata": {},
   "outputs": [
    {
     "name": "stdout",
     "output_type": "stream",
     "text": [
      "Le billet A_1 est Faux(proba: 0.0)\n",
      "Le billet A_2 est Faux(proba: 0.0)\n",
      "Le billet A_3 est Faux(proba: 0.0)\n",
      "Le billet A_4 est vrai(proba: 1.0)\n",
      "Le billet A_5 est vrai(proba: 1.0)\n"
     ]
    }
   ],
   "source": [
    "dataEval[\"is_genuine\"]=Estimation_Vrai_Faux_billets(dataEval)"
   ]
  }
 ],
 "metadata": {
  "kernelspec": {
   "display_name": "Python 3",
   "language": "python",
   "name": "python3"
  },
  "language_info": {
   "codemirror_mode": {
    "name": "ipython",
    "version": 3
   },
   "file_extension": ".py",
   "mimetype": "text/x-python",
   "name": "python",
   "nbconvert_exporter": "python",
   "pygments_lexer": "ipython3",
   "version": "3.7.6"
  },
  "toc": {
   "base_numbering": 1,
   "nav_menu": {},
   "number_sections": true,
   "sideBar": true,
   "skip_h1_title": false,
   "title_cell": "Table of Contents",
   "title_sidebar": "Contents",
   "toc_cell": false,
   "toc_position": {},
   "toc_section_display": true,
   "toc_window_display": true
  }
 },
 "nbformat": 4,
 "nbformat_minor": 4
}
